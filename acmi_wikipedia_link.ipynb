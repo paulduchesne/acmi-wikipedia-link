{
 "cells": [
  {
   "cell_type": "code",
   "execution_count": null,
   "metadata": {},
   "outputs": [],
   "source": [
    "# pull wikipedia page links for ACMI linked creators.\n",
    "\n",
    "import hashlib\n",
    "import pandas\n",
    "import pathlib\n",
    "import pydash\n",
    "import requests\n",
    "import time\n",
    "import tqdm\n",
    "\n",
    "def value_extract(row, column):\n",
    "\n",
    "    ''' Extract dictionary values. '''\n",
    "    \n",
    "    return pydash.get(row[column], 'value')\n",
    "\n",
    "def sparql_query(query, service):\n",
    "\n",
    "    ''' Send sparql request, and formulate results into a dataframe. '''\n",
    "\n",
    "    response = requests.get(service, params={'format': 'json', 'query': query}, timeout=120)\n",
    "    results = pydash.get(response.json(), 'results.bindings')\n",
    "    data_frame = pandas.DataFrame.from_dict(results)\n",
    "    for column in data_frame.columns:\n",
    "        data_frame[column] = data_frame.apply(value_extract, column=column, axis=1)\n",
    "    \n",
    "    return data_frame\n",
    "\n",
    "wikipedia_links = pathlib.Path.cwd() / 'creator_wikipedia_pages.parquet'\n",
    "if not wikipedia_links.exists():\n",
    "    query = ''' \n",
    "        select ?acmi_creator_id ?wikidata_creator_id ?wikipedia_page\n",
    "        where { \n",
    "            ?wikidata_creator_id wdt:P7003 ?acmi_creator_id . \n",
    "            filter(regex(str(?acmi_creator_id), \"creators\")) .\n",
    "            ?wikipedia_page schema:about ?wikidata_creator_id .\n",
    "            } '''\n",
    "\n",
    "    acmi_linked_creators = sparql_query(query, 'https://query.wikidata.org/sparql').drop_duplicates()\n",
    "    acmi_linked_creators.to_parquet(wikipedia_links, index=False)\n",
    "else:\n",
    "    acmi_linked_creators = pandas.read_parquet(wikipedia_links)\n",
    "\n",
    "print(len(acmi_linked_creators))\n",
    "acmi_linked_creators.head()"
   ]
  },
  {
   "cell_type": "code",
   "execution_count": null,
   "metadata": {},
   "outputs": [],
   "source": [
    "# pull wikipedia pages locally for link extraction.\n",
    "\n",
    "for wiki in tqdm.tqdm(acmi_linked_creators.wikipedia_page.unique()):\n",
    "\n",
    "    wikihash = hashlib.md5(wiki.encode()).hexdigest()\n",
    "    export_path = pathlib.Path.cwd() / 'wikipedia' / wikihash[:2] / f'{wikihash}.html'\n",
    "    if not export_path.exists():\n",
    "        export_path.parents[0].mkdir(exist_ok=True)\n",
    " \n",
    "        time.sleep(5)\n",
    "        \n",
    "        r = requests.get(wiki)\n",
    "        if r.status_code == 200:\n",
    "            with open(export_path, 'w') as export:\n",
    "                export.write(r.text)"
   ]
  }
 ],
 "metadata": {
  "kernelspec": {
   "display_name": "Python 3",
   "language": "python",
   "name": "python3"
  },
  "language_info": {
   "codemirror_mode": {
    "name": "ipython",
    "version": 3
   },
   "file_extension": ".py",
   "mimetype": "text/x-python",
   "name": "python",
   "nbconvert_exporter": "python",
   "pygments_lexer": "ipython3",
   "version": "3.11.4"
  },
  "orig_nbformat": 4
 },
 "nbformat": 4,
 "nbformat_minor": 2
}
